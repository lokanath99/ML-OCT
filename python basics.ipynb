{
 "cells": [
  {
   "cell_type": "code",
   "execution_count": 8,
   "id": "254a0e2b",
   "metadata": {},
   "outputs": [
    {
     "name": "stdout",
     "output_type": "stream",
     "text": [
      "Hello World\n"
     ]
    }
   ],
   "source": [
    "print(\"Hello World\")"
   ]
  },
  {
   "cell_type": "code",
   "execution_count": 16,
   "id": "526b310c",
   "metadata": {},
   "outputs": [
    {
     "data": {
      "text/plain": [
       "bool"
      ]
     },
     "execution_count": 16,
     "metadata": {},
     "output_type": "execute_result"
    }
   ],
   "source": [
    "a = False\n",
    "# here i am declaring a variable 'a' and assigning False to it.\n",
    "type(a)"
   ]
  },
  {
   "cell_type": "code",
   "execution_count": 25,
   "id": "de42a16b",
   "metadata": {},
   "outputs": [
    {
     "data": {
      "text/plain": [
       "8"
      ]
     },
     "execution_count": 25,
     "metadata": {},
     "output_type": "execute_result"
    }
   ],
   "source": [
    "# Operators\n",
    "# Arthematic operators \n",
    "a, b = 2, 3\n",
    "a ** b\n",
    "# / // ** %"
   ]
  },
  {
   "cell_type": "code",
   "execution_count": 7,
   "id": "496170f2",
   "metadata": {},
   "outputs": [
    {
     "data": {
      "text/plain": [
       "25"
      ]
     },
     "execution_count": 7,
     "metadata": {},
     "output_type": "execute_result"
    }
   ],
   "source": [
    "# Assignment operators\n",
    "a = 5\n",
    "# a = a**2\n",
    "a **= 2\n",
    "a"
   ]
  },
  {
   "cell_type": "code",
   "execution_count": 14,
   "id": "a37f2557",
   "metadata": {},
   "outputs": [
    {
     "data": {
      "text/plain": [
       "True"
      ]
     },
     "execution_count": 14,
     "metadata": {},
     "output_type": "execute_result"
    }
   ],
   "source": [
    "# comparision operators\n",
    "# <, >, <=, >=, ==, !=\n",
    "a = 7\n",
    "b = 6\n",
    "a >= b"
   ]
  },
  {
   "cell_type": "code",
   "execution_count": 22,
   "id": "0a55a9a3",
   "metadata": {},
   "outputs": [
    {
     "data": {
      "text/plain": [
       "True"
      ]
     },
     "execution_count": 22,
     "metadata": {},
     "output_type": "execute_result"
    }
   ],
   "source": [
    "#  Logical operators\n",
    "# and or not\n",
    "a = 6\n",
    "b = 6\n",
    "#  P   or   Q\n",
    "# a > 9 or b < 5\n",
    "not a < 5"
   ]
  },
  {
   "cell_type": "code",
   "execution_count": 33,
   "id": "08aa501d",
   "metadata": {},
   "outputs": [
    {
     "data": {
      "text/plain": [
       "140710736815144"
      ]
     },
     "execution_count": 33,
     "metadata": {},
     "output_type": "execute_result"
    }
   ],
   "source": [
    "a = 5 \n",
    "b = 5\n",
    "c = 5\n",
    "b = 9\n",
    "id(b)"
   ]
  },
  {
   "cell_type": "code",
   "execution_count": 1,
   "id": "58981edd",
   "metadata": {},
   "outputs": [
    {
     "data": {
      "text/plain": [
       "[2, 10, 6, 5, 4, 5, 6, 5]"
      ]
     },
     "execution_count": 1,
     "metadata": {},
     "output_type": "execute_result"
    }
   ],
   "source": [
    "lst = [2,5,6,5,4,5,6,5]\n",
    "lst[1] = 10\n",
    "lst"
   ]
  },
  {
   "cell_type": "code",
   "execution_count": 10,
   "id": "4b1dc114",
   "metadata": {},
   "outputs": [
    {
     "data": {
      "text/plain": [
       "2"
      ]
     },
     "execution_count": 10,
     "metadata": {},
     "output_type": "execute_result"
    }
   ],
   "source": [
    "# tuple\n",
    "tup = (2,5,6,6)\n",
    "tup.count(6)"
   ]
  },
  {
   "cell_type": "code",
   "execution_count": 24,
   "id": "3db2b4e5",
   "metadata": {},
   "outputs": [
    {
     "data": {
      "text/plain": [
       "{1, 2, 3, 4}"
      ]
     },
     "execution_count": 24,
     "metadata": {},
     "output_type": "execute_result"
    }
   ],
   "source": [
    "# set\n",
    "a = {1,2,3,4,2,5,4}\n",
    "b = {10,11,12,13,14,5}"
   ]
  },
  {
   "cell_type": "code",
   "execution_count": 35,
   "id": "ba1d5b01",
   "metadata": {},
   "outputs": [
    {
     "data": {
      "text/plain": [
       "{'name': 'usha', 'color': 'black', 'motor': False, 'speeds': 5}"
      ]
     },
     "execution_count": 35,
     "metadata": {},
     "output_type": "execute_result"
    }
   ],
   "source": [
    "fan = {\n",
    "    'name':'CG', \n",
    "    'color':'light blue',\n",
    "    'motor': True,\n",
    "    'speeds': [1,2,3,4,5]\n",
    "}\n",
    "fan['name']\n",
    "\n",
    "keys = ['name','color','motor','speeds']\n",
    "vals = ['usha', 'black', False, 5]\n",
    "data = dict(zip(keys,vals))\n",
    "data\n",
    "\n",
    "# data = float('1')\n",
    "# # data\n",
    "# data += 2\n",
    "# data"
   ]
  },
  {
   "cell_type": "code",
   "execution_count": 51,
   "id": "a60904f0",
   "metadata": {},
   "outputs": [
    {
     "name": "stdout",
     "output_type": "stream",
     "text": [
      "Enter number to check the even odd or whole2\n",
      "even\n"
     ]
    }
   ],
   "source": [
    "# controling statements\n",
    "a = int(input('Enter number to check the even odd or whole'))\n",
    "\n",
    "if a == 0 :\n",
    "    print('whole')\n",
    "elif a % 2 ==0:\n",
    "    print('even')\n",
    "else:\n",
    "    print('odd')"
   ]
  },
  {
   "cell_type": "code",
   "execution_count": 14,
   "id": "a158ebf4",
   "metadata": {},
   "outputs": [
    {
     "name": "stdout",
     "output_type": "stream",
     "text": [
      "hello\n",
      "hello\n",
      "hello\n",
      "hello\n",
      "hello\n",
      "hello\n",
      "hello\n",
      "hello\n",
      "hello\n",
      "hello\n"
     ]
    }
   ],
   "source": [
    "# looping statements \n",
    "k = 0 # init of a counter\n",
    "while k<10:# condition check\n",
    "    print('hello')#statements\n",
    "    k += 1 #inc"
   ]
  },
  {
   "cell_type": "code",
   "execution_count": 45,
   "id": "522435f1",
   "metadata": {},
   "outputs": [
    {
     "name": "stdout",
     "output_type": "stream",
     "text": [
      "{'name': 'usha', 'color': 'black', 'motor': False, 'speeds': 5}\n",
      "name : usha\n",
      "color : black\n",
      "motor : False\n",
      "speeds : 5\n"
     ]
    }
   ],
   "source": [
    "# list(range(10, 0, -1))\n",
    "a = [1,5,88,9,8,6,5]\n",
    "print(data)\n",
    "for i in data:\n",
    "    print(i+' : '+ str(data[i]))\n",
    "    \n",
    "# itiration controls --> break continue pass\n"
   ]
  },
  {
   "cell_type": "code",
   "execution_count": 9,
   "id": "9040c8a7",
   "metadata": {
    "scrolled": true
   },
   "outputs": [
    {
     "name": "stdout",
     "output_type": "stream",
     "text": [
      "69, (8, 5, 22, 5, 5, 66, 9, 5, 8, 9)\n",
      "211\n"
     ]
    }
   ],
   "source": [
    "def print_hello(num):\n",
    "    for i in range(num):\n",
    "        print('Hello')\n",
    "    \n",
    "\n",
    "    \n",
    "# def add(a, *b):\n",
    "#     print(str(a)+\", \"+str(b))\n",
    "#     print(a+sum(b))\n",
    "#     return a+sum(b)\n",
    "\n",
    "# summ = add(69,8,5,22,5,5,66,9,5,8,9)\n",
    "# print_hello(5)\n",
    "# summ+=1\n",
    "# summ"
   ]
  },
  {
   "cell_type": "code",
   "execution_count": 13,
   "id": "a29555dc",
   "metadata": {},
   "outputs": [
    {
     "name": "stdout",
     "output_type": "stream",
     "text": [
      "asdfa\n",
      "{'b': 5, 'c': 'bla', 'test': (569559, 6559, 66)}\n"
     ]
    }
   ],
   "source": [
    "def print_args(a, **b):\n",
    "    print(a)\n",
    "    print(b)\n",
    "    \n",
    "print_args(b  = 5,a = 'asdfa', c = 'bla', test = (569559,6559,66))"
   ]
  },
  {
   "cell_type": "code",
   "execution_count": 18,
   "id": "80a664b4",
   "metadata": {},
   "outputs": [
    {
     "data": {
      "text/plain": [
       "bool"
      ]
     },
     "execution_count": 18,
     "metadata": {},
     "output_type": "execute_result"
    }
   ],
   "source": [
    "lst = [2,'s',5.336,True,(1,2),None]\n",
    "type(lst[3])"
   ]
  },
  {
   "cell_type": "code",
   "execution_count": 32,
   "id": "5e2dad8f",
   "metadata": {},
   "outputs": [
    {
     "data": {
      "text/plain": [
       "array.array"
      ]
     },
     "execution_count": 32,
     "metadata": {},
     "output_type": "execute_result"
    }
   ],
   "source": [
    "import array\n",
    "arr = array.array('i', [6,9,6,5,6,9])\n",
    "type(arr)"
   ]
  },
  {
   "cell_type": "code",
   "execution_count": 1,
   "id": "add1ff2b",
   "metadata": {},
   "outputs": [
    {
     "data": {
      "text/plain": [
       "9"
      ]
     },
     "execution_count": 1,
     "metadata": {},
     "output_type": "execute_result"
    }
   ],
   "source": [
    "import numpy as np\n",
    "arr = np.array([2,6,9,5,8,9,6,5])\n",
    "type(arr)\n",
    "arr[2]"
   ]
  },
  {
   "cell_type": "code",
   "execution_count": 17,
   "id": "d1efe0ac",
   "metadata": {},
   "outputs": [
    {
     "data": {
      "text/plain": [
       "array([[5, 6],\n",
       "       [8, 9]])"
      ]
     },
     "execution_count": 17,
     "metadata": {},
     "output_type": "execute_result"
    }
   ],
   "source": [
    "tdarr = np.array([\n",
    "    [1,2,],\n",
    "    [3,4,]\n",
    "])\n",
    "\n",
    "tdarr.shape\n",
    "tdarr.size\n",
    "\n",
    "mat = np.matrix(tdarr)\n",
    "mat*mat\n",
    "\n",
    "np.zeros((3,2))\n",
    "np.ones((3,3))\n",
    "np.full((2,2), 6)\n",
    "\n",
    "exarr = np.array([\n",
    "        [1,2,3],\n",
    "        [4,5,6],\n",
    "        [7,8,9]\n",
    "])\n",
    "a = exarr[1:,1:]\n",
    "a "
   ]
  },
  {
   "cell_type": "code",
   "execution_count": 35,
   "id": "b423fbbc",
   "metadata": {},
   "outputs": [
    {
     "data": {
      "text/plain": [
       "array([1, 2, 5, 6, 8, 6, 6, 9, 5])"
      ]
     },
     "execution_count": 35,
     "metadata": {},
     "output_type": "execute_result"
    }
   ],
   "source": [
    "arr = np.array([\n",
    "    [[1,2],[3,4]],\n",
    "    [[5,6],[7,8]]\n",
    "])\n",
    "\n",
    "arr[0, 0, 1]\n",
    "arr2 = arr.reshape((4,2))\n",
    "arr.shape\n",
    "arr2.shape\n",
    "arr2.size\n",
    "\n",
    "data = np.array([1,2,5,6,8,6,6,9,5])\n",
    "data.reshape((1,9))\n",
    "data"
   ]
  },
  {
   "cell_type": "code",
   "execution_count": 36,
   "id": "246898f0",
   "metadata": {},
   "outputs": [],
   "source": [
    "np.reshape?"
   ]
  },
  {
   "cell_type": "code",
   "execution_count": 19,
   "id": "8524bc76",
   "metadata": {
    "scrolled": true
   },
   "outputs": [
    {
     "data": {
      "text/html": [
       "<div>\n",
       "<style scoped>\n",
       "    .dataframe tbody tr th:only-of-type {\n",
       "        vertical-align: middle;\n",
       "    }\n",
       "\n",
       "    .dataframe tbody tr th {\n",
       "        vertical-align: top;\n",
       "    }\n",
       "\n",
       "    .dataframe thead th {\n",
       "        text-align: right;\n",
       "    }\n",
       "</style>\n",
       "<table border=\"1\" class=\"dataframe\">\n",
       "  <thead>\n",
       "    <tr style=\"text-align: right;\">\n",
       "      <th></th>\n",
       "      <th>Name</th>\n",
       "      <th>Age</th>\n",
       "      <th>Sem</th>\n",
       "    </tr>\n",
       "  </thead>\n",
       "  <tbody>\n",
       "    <tr>\n",
       "      <th>0</th>\n",
       "      <td>Loka</td>\n",
       "      <td>55</td>\n",
       "      <td>8</td>\n",
       "    </tr>\n",
       "  </tbody>\n",
       "</table>\n",
       "</div>"
      ],
      "text/plain": [
       "   Name  Age  Sem\n",
       "0  Loka   55    8"
      ]
     },
     "execution_count": 19,
     "metadata": {},
     "output_type": "execute_result"
    }
   ],
   "source": [
    "data = {\n",
    "    \"name\":['loka','karthik','nimisha'],\n",
    "    \"age\":[66,55,8],\n",
    "    \"sem\":[8,8,8]\n",
    "}\n",
    "data\n",
    "import pandas as pd\n",
    "\n",
    "df = pd.DataFrame(data)\n",
    "df['name']\n",
    "# type(df.iloc[:1])# data frame\n",
    "# df.iloc[0]# series\n",
    "df = pd.read_csv('./data.csv')\n",
    "df2.iloc[:1]"
   ]
  },
  {
   "cell_type": "code",
   "execution_count": 31,
   "id": "e20f15e4",
   "metadata": {},
   "outputs": [
    {
     "data": {
      "text/plain": [
       "array(['Loka', 'karthik', 'nimisha'], dtype=object)"
      ]
     },
     "execution_count": 31,
     "metadata": {},
     "output_type": "execute_result"
    }
   ],
   "source": [
    "# column operation\n",
    "df.columns\n",
    "df['Name']\n",
    "df.Name\n",
    "df2 = df[['Name', 'Sem']]\n",
    "df.Name.unique()"
   ]
  },
  {
   "cell_type": "code",
   "execution_count": 36,
   "id": "0b2a48b1",
   "metadata": {},
   "outputs": [
    {
     "data": {
      "text/html": [
       "<div>\n",
       "<style scoped>\n",
       "    .dataframe tbody tr th:only-of-type {\n",
       "        vertical-align: middle;\n",
       "    }\n",
       "\n",
       "    .dataframe tbody tr th {\n",
       "        vertical-align: top;\n",
       "    }\n",
       "\n",
       "    .dataframe thead th {\n",
       "        text-align: right;\n",
       "    }\n",
       "</style>\n",
       "<table border=\"1\" class=\"dataframe\">\n",
       "  <thead>\n",
       "    <tr style=\"text-align: right;\">\n",
       "      <th></th>\n",
       "      <th>Name</th>\n",
       "      <th>Age</th>\n",
       "      <th>Sem</th>\n",
       "    </tr>\n",
       "  </thead>\n",
       "  <tbody>\n",
       "    <tr>\n",
       "      <th>0</th>\n",
       "      <td>Loka</td>\n",
       "      <td>55</td>\n",
       "      <td>8</td>\n",
       "    </tr>\n",
       "  </tbody>\n",
       "</table>\n",
       "</div>"
      ],
      "text/plain": [
       "   Name  Age  Sem\n",
       "0  Loka   55    8"
      ]
     },
     "execution_count": 36,
     "metadata": {},
     "output_type": "execute_result"
    }
   ],
   "source": [
    "# row\n",
    "df.head()\n",
    "df.tail()\n",
    "# df[df.name == 'karthik']\n",
    "df[(df['Name']=='Loka')&(df['Sem']==8)]\n",
    "# df\n",
    "# name = loka"
   ]
  },
  {
   "cell_type": "code",
   "execution_count": null,
   "id": "c2f7f57e",
   "metadata": {},
   "outputs": [],
   "source": []
  }
 ],
 "metadata": {
  "kernelspec": {
   "display_name": "Python 3 (ipykernel)",
   "language": "python",
   "name": "python3"
  },
  "language_info": {
   "codemirror_mode": {
    "name": "ipython",
    "version": 3
   },
   "file_extension": ".py",
   "mimetype": "text/x-python",
   "name": "python",
   "nbconvert_exporter": "python",
   "pygments_lexer": "ipython3",
   "version": "3.11.4"
  }
 },
 "nbformat": 4,
 "nbformat_minor": 5
}
