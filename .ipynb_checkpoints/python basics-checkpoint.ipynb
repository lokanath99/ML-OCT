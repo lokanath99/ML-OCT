{
 "cells": [
  {
   "cell_type": "code",
   "execution_count": 8,
   "id": "254a0e2b",
   "metadata": {},
   "outputs": [
    {
     "name": "stdout",
     "output_type": "stream",
     "text": [
      "Hello World\n"
     ]
    }
   ],
   "source": [
    "print(\"Hello World\")"
   ]
  },
  {
   "cell_type": "code",
   "execution_count": 16,
   "id": "526b310c",
   "metadata": {},
   "outputs": [
    {
     "data": {
      "text/plain": [
       "bool"
      ]
     },
     "execution_count": 16,
     "metadata": {},
     "output_type": "execute_result"
    }
   ],
   "source": [
    "a = False\n",
    "# here i am declaring a variable 'a' and assigning False to it.\n",
    "type(a)"
   ]
  },
  {
   "cell_type": "code",
   "execution_count": 25,
   "id": "de42a16b",
   "metadata": {},
   "outputs": [
    {
     "data": {
      "text/plain": [
       "8"
      ]
     },
     "execution_count": 25,
     "metadata": {},
     "output_type": "execute_result"
    }
   ],
   "source": [
    "# Operators\n",
    "# Arthematic operators \n",
    "a, b = 2, 3\n",
    "a ** b\n",
    "# / // ** %"
   ]
  },
  {
   "cell_type": "code",
   "execution_count": 7,
   "id": "496170f2",
   "metadata": {},
   "outputs": [
    {
     "data": {
      "text/plain": [
       "25"
      ]
     },
     "execution_count": 7,
     "metadata": {},
     "output_type": "execute_result"
    }
   ],
   "source": [
    "# Assignment operators\n",
    "a = 5\n",
    "# a = a**2\n",
    "a **= 2\n",
    "a"
   ]
  },
  {
   "cell_type": "code",
   "execution_count": 14,
   "id": "a37f2557",
   "metadata": {},
   "outputs": [
    {
     "data": {
      "text/plain": [
       "True"
      ]
     },
     "execution_count": 14,
     "metadata": {},
     "output_type": "execute_result"
    }
   ],
   "source": [
    "# comparision operators\n",
    "# <, >, <=, >=, ==, !=\n",
    "a = 7\n",
    "b = 6\n",
    "a >= b"
   ]
  },
  {
   "cell_type": "code",
   "execution_count": 22,
   "id": "0a55a9a3",
   "metadata": {},
   "outputs": [
    {
     "data": {
      "text/plain": [
       "True"
      ]
     },
     "execution_count": 22,
     "metadata": {},
     "output_type": "execute_result"
    }
   ],
   "source": [
    "#  Logical operators\n",
    "# and or not\n",
    "a = 6\n",
    "b = 6\n",
    "#  P   or   Q\n",
    "# a > 9 or b < 5\n",
    "not a < 5"
   ]
  },
  {
   "cell_type": "code",
   "execution_count": 33,
   "id": "08aa501d",
   "metadata": {},
   "outputs": [
    {
     "data": {
      "text/plain": [
       "140710736815144"
      ]
     },
     "execution_count": 33,
     "metadata": {},
     "output_type": "execute_result"
    }
   ],
   "source": [
    "a = 5 \n",
    "b = 5\n",
    "c = 5\n",
    "b = 9\n",
    "id(b)"
   ]
  },
  {
   "cell_type": "code",
   "execution_count": 1,
   "id": "58981edd",
   "metadata": {},
   "outputs": [
    {
     "data": {
      "text/plain": [
       "[2, 10, 6, 5, 4, 5, 6, 5]"
      ]
     },
     "execution_count": 1,
     "metadata": {},
     "output_type": "execute_result"
    }
   ],
   "source": [
    "lst = [2,5,6,5,4,5,6,5]\n",
    "lst[1] = 10\n",
    "lst"
   ]
  },
  {
   "cell_type": "code",
   "execution_count": 10,
   "id": "4b1dc114",
   "metadata": {},
   "outputs": [
    {
     "data": {
      "text/plain": [
       "2"
      ]
     },
     "execution_count": 10,
     "metadata": {},
     "output_type": "execute_result"
    }
   ],
   "source": [
    "# tuple\n",
    "tup = (2,5,6,6)\n",
    "tup.count(6)"
   ]
  },
  {
   "cell_type": "code",
   "execution_count": 24,
   "id": "3db2b4e5",
   "metadata": {},
   "outputs": [
    {
     "data": {
      "text/plain": [
       "{1, 2, 3, 4}"
      ]
     },
     "execution_count": 24,
     "metadata": {},
     "output_type": "execute_result"
    }
   ],
   "source": [
    "# set\n",
    "a = {1,2,3,4,2,5,4}\n",
    "b = {10,11,12,13,14,5}"
   ]
  },
  {
   "cell_type": "code",
   "execution_count": 1,
   "id": "ba1d5b01",
   "metadata": {},
   "outputs": [
    {
     "data": {
      "text/plain": [
       "{'name': 'usha', 'color': 'black', 'motor': False, 'speeds': 5}"
      ]
     },
     "execution_count": 1,
     "metadata": {},
     "output_type": "execute_result"
    }
   ],
   "source": [
    "fan = {\n",
    "    'name':'CG', \n",
    "    'color':'light blue',\n",
    "    'motor': True,\n",
    "    'speeds': [1,2,3,4,5]\n",
    "}\n",
    "fan['name']\n",
    "\n",
    "keys = ['name','color','motor','speeds']\n",
    "vals = ['usha', 'black', False, 5]\n",
    "data = dict(zip(keys,vals))\n",
    "data\n",
    "\n",
    "# data = float('1')\n",
    "# # data\n",
    "# data += 2\n",
    "# data"
   ]
  },
  {
   "cell_type": "code",
   "execution_count": 12,
   "id": "a60904f0",
   "metadata": {},
   "outputs": [
    {
     "name": "stdout",
     "output_type": "stream",
     "text": [
      "hey its five\n"
     ]
    }
   ],
   "source": [
    "# controling statements\n",
    "a = 5\n",
    "\n",
    "if a == 0 :\n",
    "    print('whole')\n",
    "elif a % 2 ==0:\n",
    "    print('even')\n",
    "elif a==5:\n",
    "    print('hey its five')\n",
    "else:\n",
    "    print('odd')"
   ]
  },
  {
   "cell_type": "code",
   "execution_count": 14,
   "id": "a158ebf4",
   "metadata": {},
   "outputs": [
    {
     "name": "stdout",
     "output_type": "stream",
     "text": [
      "hello\n",
      "hello\n",
      "hello\n",
      "hello\n",
      "hello\n",
      "hello\n",
      "hello\n",
      "hello\n",
      "hello\n",
      "hello\n"
     ]
    }
   ],
   "source": [
    "# looping statements \n",
    "k = 0 # init of a counter\n",
    "while k<10:# condition check\n",
    "    print('hello')#statements\n",
    "    k += 1 #inc"
   ]
  },
  {
   "cell_type": "code",
   "execution_count": 32,
   "id": "af9bf8b7",
   "metadata": {},
   "outputs": [
    {
     "name": "stdout",
     "output_type": "stream",
     "text": [
      "1\n",
      "5\n",
      "88\n",
      "9\n",
      "8\n",
      "6\n",
      "5\n"
     ]
    }
   ],
   "source": [
    "# list(range(10, 0, -1))\n",
    "a = [1,5,88,9,8,6,5]\n",
    "\n",
    "for i in a:\n",
    "    \n",
    "    if i == 6:\n",
    "        continue \n",
    "    else: \n",
    "        print(i)\n",
    "    \n",
    "# itiration controls --> break continue pass\n"
   ]
  },
  {
   "cell_type": "code",
   "execution_count": null,
   "id": "4f63d0d0",
   "metadata": {},
   "outputs": [],
   "source": []
  }
 ],
 "metadata": {
  "kernelspec": {
   "display_name": "Python 3 (ipykernel)",
   "language": "python",
   "name": "python3"
  },
  "language_info": {
   "codemirror_mode": {
    "name": "ipython",
    "version": 3
   },
   "file_extension": ".py",
   "mimetype": "text/x-python",
   "name": "python",
   "nbconvert_exporter": "python",
   "pygments_lexer": "ipython3",
   "version": "3.11.4"
  }
 },
 "nbformat": 4,
 "nbformat_minor": 5
}
